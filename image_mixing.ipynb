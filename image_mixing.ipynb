{
  "nbformat": 4,
  "nbformat_minor": 0,
  "metadata": {
    "colab": {
      "name": "image_mixing.ipynb",
      "version": "0.3.2",
      "provenance": [],
      "collapsed_sections": [],
      "include_colab_link": true
    },
    "kernelspec": {
      "name": "python3",
      "display_name": "Python 3"
    }
  },
  "cells": [
    {
      "cell_type": "markdown",
      "metadata": {
        "id": "view-in-github",
        "colab_type": "text"
      },
      "source": [
        "<a href=\"https://colab.research.google.com/github/gasparian/photolab_hack/blob/master/image_mixing.ipynb\" target=\"_parent\"><img src=\"https://colab.research.google.com/assets/colab-badge.svg\" alt=\"Open In Colab\"/></a>"
      ]
    },
    {
      "metadata": {
        "id": "R21s67GjqRLE",
        "colab_type": "code",
        "colab": {
          "base_uri": "https://localhost:8080/",
          "height": 51
        },
        "outputId": "5b45b686-00bb-423e-ca0d-d5910d8addf7"
      },
      "cell_type": "code",
      "source": [
        "from __future__ import print_function\n",
        "from matplotlib import pyplot as plt\n",
        "import cv2\n",
        "import numpy as np\n",
        "import glob\n",
        "from cv2 import VideoWriter, VideoWriter_fourcc\n",
        "from datetime import datetime\n",
        "\n",
        "t = datetime.now()\n",
        "# [load]\n",
        "src1 = cv2.imread('alena.png')\n",
        "src2 = cv2.imread('tree.jpg')\n",
        "\n",
        "height, width, depth = src1.shape\n",
        "imgScale = width/width\n",
        "newX,newY = src1.shape[1]*imgScale, src1.shape[0]*imgScale\n",
        "size = (int(newX),int(newY))\n",
        "src1 = cv2.resize(src1, size)\n",
        "gray = cv2.cvtColor(src1, cv2.COLOR_BGR2GRAY)\n",
        "gray = cv2.cvtColor(gray, cv2.COLOR_GRAY2BGR)\n",
        "\n",
        "src2 = cv2.resize(src2,(int(newX),int(newY)))\n",
        "img_array = []\n",
        "\n",
        "video = cv2.VideoWriter('project.mp4',cv2.VideoWriter_fourcc(*'DIVX'), 30, size)\n",
        "\n",
        "for i in range(0,75): \n",
        "\t# [blend_images]\n",
        "\talpha = i/75\n",
        "\tbeta = (1.0 - alpha)\n",
        "\tdst = cv2.addWeighted(gray, alpha, src1, beta, 0.0)\n",
        "\timg_array.append(dst)\n",
        "\tvideo.write(dst)\n",
        "\tcv2.imwrite('in/out'+str(i)+'.png', dst)\n",
        "for i in range(75,400): \n",
        "\t# [blend_images]\n",
        "\talpha = (i - 75)/325\n",
        "\tbeta = (1.0 - alpha)\n",
        "\tdst = cv2.addWeighted(src2, alpha, gray, beta, 0.0)\n",
        "\timg_array.append(dst)\n",
        "\tvideo.write(dst)\n",
        "\tcv2.imwrite('in/out'+str(i)+'.png', dst)\n",
        "\tif i == 300:\n",
        "\t\tbreak\n",
        "print(datetime.now()-t)\n",
        "video.release()\t\n",
        "\n",
        "print(2)"
      ],
      "execution_count": 74,
      "outputs": [
        {
          "output_type": "stream",
          "text": [
            "0:00:01.415813\n",
            "2\n"
          ],
          "name": "stdout"
        }
      ]
    },
    {
      "metadata": {
        "id": "bWHVKg38fUYK",
        "colab_type": "code",
        "colab": {
          "base_uri": "https://localhost:8080/",
          "height": 136
        },
        "outputId": "079f6db1-644c-449b-b035-ad2974160098"
      },
      "cell_type": "code",
      "source": [
        "from moviepy.editor import *\n",
        "t = datetime.now()\n",
        "videoclip = VideoFileClip(\"project.mp4\")\n",
        "videoclip.write_videofile(\"output.mp4\", audio=\"music_small.mp3\")\n",
        "print(datetime.now()-t)"
      ],
      "execution_count": 75,
      "outputs": [
        {
          "output_type": "stream",
          "text": [
            "[MoviePy] >>>> Building video output.mp4\n",
            "[MoviePy] Writing video output.mp4\n"
          ],
          "name": "stdout"
        },
        {
          "output_type": "stream",
          "text": [
            "100%|██████████| 301/301 [00:04<00:00, 59.35it/s]\n"
          ],
          "name": "stderr"
        },
        {
          "output_type": "stream",
          "text": [
            "[MoviePy] Done.\n",
            "[MoviePy] >>>> Video ready: output.mp4 \n",
            "\n",
            "0:00:05.401977\n"
          ],
          "name": "stdout"
        }
      ]
    }
  ]
}